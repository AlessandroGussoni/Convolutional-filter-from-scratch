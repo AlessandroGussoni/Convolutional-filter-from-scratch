{
 "cells": [
  {
   "cell_type": "markdown",
   "metadata": {},
   "source": [
    "### Defining the function"
   ]
  },
  {
   "cell_type": "code",
   "execution_count": 1,
   "metadata": {},
   "outputs": [],
   "source": [
    "import numpy as np\n",
    "import math\n",
    "\n",
    "# This function creates 'same' pad if called. The default value vor padding is zero\n",
    "\n",
    "def create_pad(image, k_size, value = 0):\n",
    "    image_padded = value * np.ones((image.shape[0] + 2 * (k_size - int(np.round(k_size / 2))), \n",
    "                                    image.shape[1] + 2 * (k_size - int(np.round(k_size / 2)))))\n",
    "    image_padded[k_size - int(np.round(k_size / 2)) : image.shape[0] + (k_size - int(np.round(k_size / 2))), \n",
    "                 k_size - int(np.round(k_size / 2)) : image.shape[1] + (k_size - int(np.round(k_size / 2)))] = image\n",
    "    return image_padded\n",
    "\n",
    "# The function takes as input the image on which filter must be applied, the number of filters, the kernel_size,\n",
    "# The stripe and a boolean value for pad: if True 'same' pad will be used, otherwise 'valid'. The function\n",
    "# return an array with the filters\n",
    "\n",
    "def apply_filters(image, n_filters, k_size, stride, pad = True):\n",
    "    \n",
    "    if pad:\n",
    "        image_ = create_pad(image, k_size)    \n",
    "        output = []\n",
    "        for n_filter in range(n_filters):\n",
    "            filter_ = np.random.rand(k_size, k_size)\n",
    "            filter_i = []\n",
    "            for row in range(k_size - int(np.round(k_size / 2)), image.shape[0] + k_size - int(np.round(k_size / 2)), stride):\n",
    "                row_pixel = []\n",
    "                for col in range(k_size - int(np.round(k_size / 2)), image.shape[1] + k_size - int(np.round(k_size / 2)), stride):\n",
    "        \n",
    "                    pixel = np.dot(image_[row - math.floor(k_size / 2) : row + 1 + math.floor(k_size / 2), \n",
    "                                            col - math.floor(k_size / 2) : col + 1 + math.floor(k_size / 2)].reshape(k_size ** 2,),\n",
    "                                   filter_.reshape(k_size ** 2,))\n",
    "                    row_pixel.append(pixel)\n",
    "                filter_i.append(row_pixel)\n",
    "            output.append(filter_i)\n",
    "\n",
    "    if not pad:\n",
    "        output = []\n",
    "        for n_filter in range(n_filters):\n",
    "            filter_ = np.random.rand(k_size, k_size)\n",
    "            filter_i = []\n",
    "            for row in range(int(np.floor(k_size / 2)), image.shape[0] - int(np.floor(k_size / 2)), stride):\n",
    "                row_pixel = []\n",
    "                for col in range(int(np.floor(k_size / 2)), image.shape[0] - int(np.floor(k_size / 2)), stride):\n",
    "                    pixel = np.dot(image[row - math.floor(k_size / 2) : row + 1 + math.floor(k_size / 2), \n",
    "                                     col - math.floor(k_size / 2) : col + 1 + math.floor(k_size / 2)].reshape(9,),\n",
    "                                   filter_.reshape(9,))\n",
    "                    row_pixel.append(pixel)\n",
    "                filter_i.append(row_pixel)\n",
    "        output.append(filter_i)\n",
    "    return np.array(output)"
   ]
  },
  {
   "cell_type": "markdown",
   "metadata": {},
   "source": [
    "### Importing fashion mnist dataset"
   ]
  },
  {
   "cell_type": "code",
   "execution_count": 2,
   "metadata": {},
   "outputs": [],
   "source": [
    "from tensorflow import keras\n",
    "\n",
    "(X_train_full, y_train_full), (X_test, y_test) = keras.datasets.fashion_mnist.load_data()\n",
    "X_train_full = X_train_full.astype(np.float32) / 255\n",
    "image = X_train_full[1]"
   ]
  },
  {
   "cell_type": "markdown",
   "metadata": {},
   "source": [
    "### Plotting generated filters"
   ]
  },
  {
   "cell_type": "code",
   "execution_count": 4,
   "metadata": {},
   "outputs": [
    {
     "data": {
      "image/png": "[encoded data removed]",
      "text/plain": [
       "<Figure size 800x600 with 4 Axes>"
      ]
     },
     "metadata": {
      "needs_background": "light"
     },
     "output_type": "display_data"
    }
   ],
   "source": [
    "import matplotlib.pyplot as plt\n",
    "\n",
    "filtered = apply_filters(image, n_filters = 4, k_size = 5, stride = 1)\n",
    "fig = plt.figure(figsize = (4, 3), dpi = 200)\n",
    "axes = {}\n",
    "for i in range(1, 5):\n",
    "    axes['ax' + str(i)] = fig.add_subplot(2, 2, i)\n",
    "i = 1\n",
    "for img in filtered:\n",
    "    axes['ax' + str(i)].imshow(img, cmap = 'binary')\n",
    "    axes['ax' + str(i)].axis('off')\n",
    "    i += 1"
   ]
  },
  {
   "cell_type": "markdown",
   "metadata": {},
   "source": [
    "As we can see each filter highlights a different part of the image, expecially on the t-shirt logo. If we apply filters in a recursive way we will end up in descovering very specific pattern within the image (i.e. vertical lines, edges, shapes ...)"
   ]
  }
 ],
 "metadata": {
  "kernelspec": {
   "display_name": "Python 3",
   "language": "python",
   "name": "python3"
  },
  "language_info": {
   "codemirror_mode": {
    "name": "ipython",
    "version": 3
   },
   "file_extension": ".py",
   "mimetype": "text/x-python",
   "name": "python",
   "nbconvert_exporter": "python",
   "pygments_lexer": "ipython3",
   "version": "3.7.3"
  }
 },
 "nbformat": 4,
 "nbformat_minor": 2
}
